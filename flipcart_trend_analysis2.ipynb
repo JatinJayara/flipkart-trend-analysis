{
 "cells": [
  {
   "cell_type": "code",
   "execution_count": 21,
   "id": "375ef882-d220-478f-a144-ced19a3bbd1d",
   "metadata": {},
   "outputs": [],
   "source": [
    "# flipkart_analysis.py\n",
    "# A simple script to explore Flipkart product data and prepare visuals for LinkedIn\n",
    "\n",
    "import os\n",
    "import pandas as pd\n",
    "import numpy as np\n",
    "import matplotlib.pyplot as plt\n"
   ]
  },
  {
   "cell_type": "code",
   "execution_count": 23,
   "id": "41910c9d-5309-4b4c-abd7-ba1b61c1aab2",
   "metadata": {},
   "outputs": [
    {
     "name": "stdout",
     "output_type": "stream",
     "text": [
      "Loaded 20,000 rows from Flipkart data\n",
      "After filtering small categories: 19,668 products\n",
      "\n"
     ]
    }
   ],
   "source": [
    "# — Step 2: Extract & clean main_category ——————————————————————\n",
    "\n",
    "\n",
    "df = pd.read_csv(r\"C:\\Users\\j0653\\Downloads\\flipkart_com-ecommerce_sample.csv\\flipkart_com-ecommerce_sample.csv\")\n",
    "\n",
    "\n",
    "print(f\"Loaded {len(df):,} rows from Flipkart data\")\n",
    "\n",
    "df.loc[:, 'main_category'] = (\n",
    "    df['product_category_tree']\n",
    "      .str.split('>>').str[0]\n",
    "      .str.replace(r'[\\[\\]\"]', '', regex=True)\n",
    "      .str.strip()\n",
    ")\n",
    "# Drop any category with fewer than 10 items, then copy again\n",
    "counts   = df['main_category'].value_counts()\n",
    "big_cats = counts[counts >= 10].index\n",
    "df        = df[df['main_category'].isin(big_cats)].copy()\n",
    "print(f\"After filtering small categories: {len(df):,} products\\n\")"
   ]
  },
  {
   "cell_type": "code",
   "execution_count": 24,
   "id": "cc7408e3-c14e-4e26-a1b3-2edf755d74ec",
   "metadata": {},
   "outputs": [],
   "source": [
    "# — Step 3: Clean ratings & compute discount % ———————————————————\n",
    "df.loc[:, 'product_rating'] = (\n",
    "    df['product_rating']\n",
    "      .replace('No rating available', np.nan)\n",
    "      .pipe(pd.to_numeric, errors='coerce')\n",
    ")\n",
    "df.loc[:, 'discount_%'] = (\n",
    "    (df['retail_price'] - df['discounted_price'])\n",
    "    / df['retail_price'] * 100\n",
    ").round(1)\n"
   ]
  },
  {
   "cell_type": "code",
   "execution_count": 27,
   "id": "11e38f55-4151-4a7e-8548-2e3584e0831d",
   "metadata": {},
   "outputs": [
    {
     "name": "stdout",
     "output_type": "stream",
     "text": [
      "Metrics:\n",
      " • Top category       : Clothing (31.5%)\n",
      " • Best discount in   : Sunglasses (60.6%)\n",
      " • Avg rating < ₹2,000: 3.79/5\n",
      " • Avg rating ≥ ₹10,000: 4.11/5\n",
      "\n"
     ]
    }
   ],
   "source": [
    "# — Step 4: Compute key metrics —————————————————————————————\n",
    "total_products = len(df)\n",
    "\n",
    "# Top category by count\n",
    "cat_counts  = df['main_category'].value_counts()\n",
    "top_cat     = cat_counts.idxmax()\n",
    "top_cat_pct = round(cat_counts.max() / total_products * 100, 1)\n",
    "\n",
    "# Category with highest avg discount\n",
    "avg_discounts = df.groupby('main_category')['discount_%'].mean()\n",
    "top_disc_cat  = avg_discounts.idxmax()\n",
    "top_disc_val  = round(avg_discounts.max(), 1)\n",
    "\n",
    "# Avg ratings: budget vs premium\n",
    "budget_df       = df[df['discounted_price'] < 2000]\n",
    "premium_df      = df[df['discounted_price'] >= 10000]\n",
    "avg_rate_budget  = round(budget_df['product_rating'].mean(),  2)\n",
    "avg_rate_premium = round(premium_df['product_rating'].mean(), 2)\n",
    "\n",
    "print(\"Metrics:\")\n",
    "print(f\" • Top category       : {top_cat} ({top_cat_pct}%)\")\n",
    "print(f\" • Best discount in   : {top_disc_cat} ({top_disc_val}%)\")\n",
    "print(f\" • Avg rating < ₹2,000: {avg_rate_budget}/5\")\n",
    "print(f\" • Avg rating ≥ ₹10,000: {avg_rate_premium}/5\\n\")\n"
   ]
  },
  {
   "cell_type": "code",
   "execution_count": 35,
   "id": "2c01d4db-20d3-4f07-a818-b524ca8c412d",
   "metadata": {},
   "outputs": [
    {
     "name": "stdout",
     "output_type": "stream",
     "text": [
      "Saved charts: top_categories.png, discounts_by_category.png, avg_rating_by_price.png\n",
      "\n"
     ]
    }
   ],
   "source": [
    "# — Step 5: Plot & save charts —————————————————————————————\n",
    "\n",
    "\n",
    "# Plot top categories by product count\n",
    "plt.figure(figsize=(8, 5))\n",
    "cat_counts.head(8).plot(kind='bar')\n",
    "plt.title('Top 8 Categories by Product Count')\n",
    "plt.xlabel('Category')\n",
    "plt.ylabel('Number of Products')\n",
    "plt.xticks(rotation=45, ha='right')\n",
    "plt.tight_layout()\n",
    "plt.savefig('top_categories.png')\n",
    "plt.close()\n",
    "\n",
    "# Plot top categories by average discount\n",
    "plt.figure(figsize=(8, 5))\n",
    "avg_discounts.sort_values(ascending=False).head(8).plot(kind='bar')\n",
    "plt.title('Top 8 Categories by Average Discount (%)')\n",
    "plt.xlabel('Category')\n",
    "plt.ylabel('Average Discount (%)')\n",
    "plt.xticks(rotation=45, ha='right')\n",
    "plt.tight_layout()\n",
    "plt.savefig('discounts_by_category.png')\n",
    "plt.close()\n",
    "\n",
    "# Plot average rating comparison between budget and premium products\n",
    "plt.figure(figsize=(8, 5))\n",
    "ratings = [avg_rate_budget, avg_rate_premium]\n",
    "labels = ['Avg Rating < ₹2,000', 'Avg Rating ≥ ₹10,000']\n",
    "plt.bar(labels, ratings, color=['blue', 'green'])\n",
    "plt.title('Average Rating Comparison: Budget vs Premium')\n",
    "plt.ylabel('Average Rating (out of 5)')\n",
    "plt.tight_layout()\n",
    "plt.savefig('avg_rating_by_price.png')\n",
    "plt.close()\n",
    "\n",
    "print(\"Saved charts: top_categories.png, discounts_by_category.png, avg_rating_by_price.png\\n\")\n",
    "\n"
   ]
  },
  {
   "cell_type": "code",
   "execution_count": 30,
   "id": "e195858d-73ae-43c4-af56-bc6c6f71d638",
   "metadata": {},
   "outputs": [
    {
     "name": "stdout",
     "output_type": "stream",
     "text": [
      "--- Copy this for LinkedIn ---\n",
      "\n",
      " Flipkart E‑Commerce Insights: Data Tells the Story!\n",
      "\n",
      "Analyzed 19,668 Flipkart products.\n",
      "\n",
      "Category Trends: Clothing leads with 31.5% of listings\n",
      "Discount Patterns: Sunglasses offers an avg. 60.6% discount\n",
      "Rating Insights: • Under ₹2,000 → 3.79/5\n",
      "• Above ₹10,000 → 4.11/5\n",
      "\n",
      "I’m excited to share that I have just completed the Google Advanced Data Analytics certificate—strengthening \n",
      "my expertise in Python and libraries such as Pandas and Matplotlib.\n",
      "\n",
      "Tools & Libraries Used: • Python (Pandas, Matplotlib)\n",
      "\n",
      "Dataset Used: • https://www.kaggle.com/datasets/PromptCloudHQ/flipkart-products • Python (Pandas, Matplotlib)\n",
      "\n",
      "Stay tuned for my next project on brain tumour detection using explainable AI—leveraging Keras, NumPy, \n",
      "Pandas, and scikit-learn to highlight critical tumor regions in medical scans.\n",
      "\n",
      "#DataAnalytics #Python #MachineLearning #DataScience \n"
     ]
    }
   ],
   "source": [
    "#LinkedIn post snippet\n",
    "\n",
    "post = f\"\"\" Flipkart E‑Commerce Insights: Data Tells the Story!\n",
    "\n",
    "Analyzed {total_products:,} Flipkart products.\n",
    "\n",
    "Category Trends: {top_cat} leads with {top_cat_pct}% of listings\n",
    "Discount Patterns: {top_disc_cat} offers an avg. {top_disc_val}% discount\n",
    "Rating Insights: • Under ₹2,000 → {avg_rate_budget}/5\n",
    "• Above ₹10,000 → {avg_rate_premium}/5\n",
    "\n",
    "I’m excited to share that I have just completed the Google Advanced Data Analytics certificate—strengthening \n",
    "my expertise in Python and libraries such as Pandas and Matplotlib.\n",
    "\n",
    "Tools & Libraries Used: • Python (Pandas, Matplotlib)\n",
    "\n",
    "Dataset Used: • https://www.kaggle.com/datasets/PromptCloudHQ/flipkart-products • Python (Pandas, Matplotlib)\n",
    "\n",
    "Stay tuned for my next project on brain tumour detection using explainable AI—leveraging Keras, NumPy, \n",
    "Pandas, and scikit-learn to highlight critical tumor regions in medical scans.\n",
    "\n",
    "#DataAnalytics #Python #MachineLearning #DataScience \"\"\"\n",
    "\n",
    "#Copy for LinkedIn\n",
    "\n",
    "print(\"--- Copy this for LinkedIn ---\\n\")\n",
    "print(post)\n",
    "\n"
   ]
  },
  {
   "cell_type": "code",
   "execution_count": 43,
   "id": "efe0d547-4684-4d1c-a365-34426a7c46cd",
   "metadata": {},
   "outputs": [
    {
     "name": "stdout",
     "output_type": "stream",
     "text": [
      "Current working directory: C:\\Users\\j0653\\Documents\n"
     ]
    }
   ],
   "source": [
    "import os\n",
    "print(\"Current working directory:\", os.getcwd())"
   ]
  },
  {
   "cell_type": "code",
   "execution_count": 41,
   "id": "e8d72a81-690b-46cf-adc0-b3b8ce6fc5d9",
   "metadata": {},
   "outputs": [
    {
     "name": "stdout",
     "output_type": "stream",
     "text": [
      "Created flipkart_charts.zip with all plots.\n"
     ]
    }
   ],
   "source": [
    "import zipfile\n",
    "\n",
    "# List of chart image files to include in the ZIP\n",
    "plot_files = [\n",
    "    'top_categories.png',\n",
    "    'discounts_by_category.png',\n",
    "    'avg_rating_by_price.png'\n",
    "]\n",
    "\n",
    "# Create ZIP file and add plots\n",
    "with zipfile.ZipFile('flipkart_charts.zip', 'w') as zipf:\n",
    "    for file in plot_files:\n",
    "        zipf.write(file)\n",
    "\n",
    "print(\"Created flipkart_charts.zip with all plots.\")\n",
    "\n",
    "\n"
   ]
  },
  {
   "cell_type": "code",
   "execution_count": null,
   "id": "7653cde0-89de-43b9-a7bf-5431080f1e97",
   "metadata": {},
   "outputs": [],
   "source": []
  }
 ],
 "metadata": {
  "kernelspec": {
   "display_name": "Python [conda env:base] *",
   "language": "python",
   "name": "conda-base-py"
  },
  "language_info": {
   "codemirror_mode": {
    "name": "ipython",
    "version": 3
   },
   "file_extension": ".py",
   "mimetype": "text/x-python",
   "name": "python",
   "nbconvert_exporter": "python",
   "pygments_lexer": "ipython3",
   "version": "3.12.7"
  }
 },
 "nbformat": 4,
 "nbformat_minor": 5
}
